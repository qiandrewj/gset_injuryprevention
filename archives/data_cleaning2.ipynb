{
 "cells": [
  {
   "cell_type": "code",
   "execution_count": 40,
   "metadata": {},
   "outputs": [],
   "source": [
    "import os\n",
    "import pandas as pd\n",
    "import math\n",
    "import matplotlib.pyplot as plt\n",
    "import numpy as np\n",
    "import tensorflow as tf"
   ]
  },
  {
   "cell_type": "code",
   "execution_count": 47,
   "metadata": {},
   "outputs": [
    {
     "name": "stdout",
     "output_type": "stream",
     "text": [
      "781 24\n"
     ]
    }
   ],
   "source": [
    "df = pd.read_csv(\"dataset_tall.csv\")\n",
    "num_rows, num_cols = df.shape\n",
    "print(num_rows, num_cols)\n",
    "columns_to_delete = [\"Balance left t-score\", \"Balance right t-score\", \"Balance Type\", \"Plank left t-score\", \"Plank right t-score\", \"Plank Type\", \"Landing left t-score\", \"Landing right t-score\"]\n"
   ]
  },
  {
   "cell_type": "code",
   "execution_count": 48,
   "metadata": {},
   "outputs": [],
   "source": [
    "from numpy import NaN\n",
    "rows_to_clean = []\n",
    "\n",
    "for row in range(num_rows):\n",
    "    if not df.iloc[row][\"Sparta score\"] > 0.1:\n",
    "        rows_to_clean.append(row)\n",
    "df = df.drop(rows_to_clean)\n",
    "df = df.drop(columns_to_delete, axis = 1)\n"
   ]
  },
  {
   "cell_type": "code",
   "execution_count": 50,
   "metadata": {},
   "outputs": [
    {
     "data": {
      "text/plain": [
       "(297, 16)"
      ]
     },
     "execution_count": 50,
     "metadata": {},
     "output_type": "execute_result"
    }
   ],
   "source": [
    "df = df.drop_duplicates(\"Unique ID\")\n",
    "df.shape"
   ]
  },
  {
   "cell_type": "code",
   "execution_count": 56,
   "metadata": {},
   "outputs": [],
   "source": [
    "df.to_csv(\"dataset_tall_positions.xlsx\")"
   ]
  },
  {
   "cell_type": "code",
   "execution_count": 36,
   "metadata": {},
   "outputs": [
    {
     "name": "stdout",
     "output_type": "stream",
     "text": [
      "examples in training: 360\n",
      "examples in testing: 69\n"
     ]
    }
   ],
   "source": [
    "def split_dataset(dataset, test_ratio = 0.3):\n",
    "    test_indices = np.random.rand(len(dataset)) < test_ratio\n",
    "    return dataset[~test_indices], dataset[test_indices]\n",
    "\n",
    "train_ds_pd, test_ds_pd = split_dataset(df)\n",
    "print(\"examples in training:\", len(train_ds_pd))\n",
    "print(\"examples in testing:\", len(test_ds_pd))"
   ]
  }
 ],
 "metadata": {
  "kernelspec": {
   "display_name": "Python 3.9.1 64-bit",
   "language": "python",
   "name": "python3"
  },
  "language_info": {
   "codemirror_mode": {
    "name": "ipython",
    "version": 3
   },
   "file_extension": ".py",
   "mimetype": "text/x-python",
   "name": "python",
   "nbconvert_exporter": "python",
   "pygments_lexer": "ipython3",
   "version": "3.9.1"
  },
  "orig_nbformat": 4,
  "vscode": {
   "interpreter": {
    "hash": "153255f27797905577727383c99f49ce906230d0c12681ee0a5adb5f96bd6e45"
   }
  }
 },
 "nbformat": 4,
 "nbformat_minor": 2
}
