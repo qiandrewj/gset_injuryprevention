{
 "cells": [
  {
   "cell_type": "code",
   "execution_count": null,
   "metadata": {},
   "outputs": [],
   "source": [
    "import pandas as pd\n",
    "from sklearn.tree import DecisionTreeClassifier\n",
    "from sklearn.model_selection import train_test_split\n",
    "from sklearn import metrics\n",
    "\n",
    "columns = ['Sparta score', 'Load t-score', 'Explode t-score', 'Drive t-score', 'Jump height (in)', 'Weight (lb)']\n",
    "\n",
    "dataset_tall = pd.read_csv(\"dataset_tall.csv\", header = 0)\n",
    "df_t = pd.DataFrame(dataset_tall)[columns]\n",
    "df_t.head"
   ]
  },
  {
   "cell_type": "code",
   "execution_count": null,
   "metadata": {},
   "outputs": [],
   "source": [
    "from numpy import NaN\n",
    "\n",
    "\n",
    "for row in range(len(df_t)):\n",
    "    for column in columns:\n",
    "        cell = df_t.iloc[row][column]\n",
    "        if type(cell) != float:\n",
    "            cell = NaN\n",
    "\n",
    "df_t = df_t.dropna()\n",
    "df_t"
   ]
  },
  {
   "cell_type": "code",
   "execution_count": null,
   "metadata": {},
   "outputs": [],
   "source": [
    "feature_cols = ['Load t-score', 'Explode t-score', 'Drive t-score']\n",
    "X = df_t[feature_cols]\n",
    "y = df_t['Sparta score']\n",
    "\n",
    "X_train, X_test, y_train, y_test = train_test_split(X, y, test_size = 0.2, random_state = 1)\n",
    "\n",
    "clf = DecisionTreeClassifier()\n",
    "clf = clf.fit(X_train, y_train)\n",
    "y_pred = clf.predict(X_test)\n",
    "\n",
    "print(\"Accuracy:\", metrics.accuracy_score(y_test, y_pred))\n",
    "print(X)"
   ]
  },
  {
   "cell_type": "code",
   "execution_count": null,
   "metadata": {},
   "outputs": [],
   "source": [
    "from sklearn.linear_model import LinearRegression\n",
    "\n",
    "linear = LinearRegression()\n",
    "\n",
    "linear = linear.fit(X, y)\n",
    "r_sq = linear.score(X, y)\n",
    "print(r_sq)"
   ]
  }
 ],
 "metadata": {
  "kernelspec": {
   "display_name": "Python 3.9.1 64-bit",
   "language": "python",
   "name": "python3"
  },
  "language_info": {
   "codemirror_mode": {
    "name": "ipython",
    "version": 3
   },
   "file_extension": ".py",
   "mimetype": "text/x-python",
   "name": "python",
   "nbconvert_exporter": "python",
   "pygments_lexer": "ipython3",
   "version": "3.9.1"
  },
  "orig_nbformat": 4,
  "vscode": {
   "interpreter": {
    "hash": "153255f27797905577727383c99f49ce906230d0c12681ee0a5adb5f96bd6e45"
   }
  }
 },
 "nbformat": 4,
 "nbformat_minor": 2
}
